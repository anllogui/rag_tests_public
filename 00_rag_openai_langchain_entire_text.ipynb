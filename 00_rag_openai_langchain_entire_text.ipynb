{
 "cells": [
  {
   "cell_type": "markdown",
   "metadata": {},
   "source": [
    "# LOAD LIBRARIES"
   ]
  },
  {
   "cell_type": "code",
   "execution_count": null,
   "metadata": {},
   "outputs": [],
   "source": [
    "import os\n",
    "from dotenv import load_dotenv\n",
    "\n",
    "load_dotenv()\n",
    "\n",
    "OPENAI_API_KEY = os.getenv(\"OPENAI_API_KEY\")\n",
    "\n",
    "print(OPENAI_API_KEY)\n",
    "# This is the YouTube video we're going to use.\n",
    "YOUTUBE_VIDEO = \"YOUTuBE_VIDEO\"\n",
    "\n",
    "MP3_FILE = \"data/mp3s/MP3_OUTPUT_FILE.mp3\"\n",
    "\n",
    "gpt_version = \"gpt-4o-mini\""
   ]
  },
  {
   "cell_type": "markdown",
   "metadata": {},
   "source": [
    "# Get Transcription\n",
    "\n",
    "A partir de aquí viene el código de la app:"
   ]
  },
  {
   "cell_type": "code",
   "execution_count": null,
   "metadata": {},
   "outputs": [],
   "source": [
    "import tempfile\n",
    "import whisper\n",
    "from pytube import YouTube\n",
    "from urllib.error import HTTPError\n",
    "\n",
    "data_to_read = \"data/transcription.txt\"\n",
    "\n",
    "# to solve HTTPError\n",
    "from pytube. innertube import _default_clients\n",
    "_default_clients[ \"ANDROID\"][ \"context\"][\"client\"][\"clientVersion\"] = \"19.08.35\"\n",
    "_default_clients[\"IOS\"][\"context\"][\"client\"][\"clientVersion\"] = \"19.08.35\"\n",
    "_default_clients[ \"ANDROID_EMBED\"][ \"context\"][ \"client\"][\"clientVersion\"] = \"19.08.35\"\n",
    "_default_clients[ \"IOS_EMBED\"][ \"context\"][\"client\"][\"clientVersion\"] = \"19.08.35\"\n",
    "_default_clients[\"IOS_MUSIC\"][ \"context\"][\"client\"][\"clientVersion\"] = \"6.41\"\n",
    "_default_clients[ \"ANDROID_MUSIC\"] = _default_clients[ \"ANDROID_CREATOR\" ]\n",
    "\n",
    "\n",
    "# Let's do this only if we haven't created the transcription file yet.\n",
    "if not os.path.exists(data_to_read):\n",
    "    file = None\n",
    "    print(\"looking for mp3 file...\")\n",
    "    if not os.path.exists(MP3_FILE):\n",
    "        print(\"loading youtube function\")\n",
    "        youtube = YouTube(YOUTUBE_VIDEO)\n",
    "        \n",
    "        print(\"getting audio path\")\n",
    "        try:\n",
    "            audio = youtube.streams.filter(only_audio=True).first()\n",
    "        except HTTPError:\n",
    "            print(\"error downloading\")\n",
    "            audio = youtube.streams.filter(only_audio=True).first()\n",
    "\n",
    "        print(f\"Audio {audio}\")\n",
    "        \n",
    "        with tempfile.TemporaryDirectory() as tmpdir:\n",
    "            print(\"downloading audio\")\n",
    "            audio_file = audio.download(output_path=tmpdir)\n",
    "       \n",
    "    else:\n",
    "        print(f\"audio file exists: {MP3_FILE}\")\n",
    "        \n",
    "        audio_file = MP3_FILE\n",
    " \n",
    " \n",
    "    print(\"loading whisper model\")\n",
    "    whisper_model = whisper.load_model(\"large-v2\")\n",
    "        \n",
    "    print(\"initiating transcription\")\n",
    "    transcription = whisper_model.transcribe(audio_file, fp16=False)[\"text\"].strip()\n",
    "\n",
    "    with open(data_to_read, \"w\") as file:\n",
    "        file.write(transcription)"
   ]
  },
  {
   "cell_type": "code",
   "execution_count": null,
   "metadata": {},
   "outputs": [],
   "source": [
    "with open(data_to_read) as file:\n",
    "    transcription = file.read()\n",
    "\n",
    "transcription[:100]"
   ]
  },
  {
   "cell_type": "code",
   "execution_count": null,
   "metadata": {},
   "outputs": [],
   "source": [
    "from langchain.prompts import ChatPromptTemplate\n",
    "from langchain_openai.chat_models import ChatOpenAI\n",
    "\n",
    "model = ChatOpenAI(openai_api_key=OPENAI_API_KEY, model=gpt_version)\n",
    "\n",
    "template = \"\"\"\n",
    "Responda a la pregunta basándose en el contexto que aparece a continuación. \n",
    "Se trata de una entrevista de un podcast  \n",
    "a un asesor financiero experto en seguros y productos de inversión.\n",
    "\n",
    "Context: {context}\n",
    "\n",
    "Question: {question}\n",
    "\"\"\"\n",
    "\n",
    "prompt = ChatPromptTemplate.from_template(template)\n",
    "\n",
    "chain = prompt | model # | parser\n",
    "\n",
    "question = \"\"\"\n",
    "Extraiga los puntos clave del podcast:\n",
    "    Puntos a extraer:\n",
    "    1. Resuma los principales temas tratados en el podcast.\n",
    "    2. Identifique cualquier idea, hecho u opinión importante que se mencione.\n",
    "    3. Destaque los argumentos o puntos de vista clave presentados por los oradores.\n",
    "    4. Presente un resumen detallado de los principales temas tratados en el podcast.\n",
    "    \n",
    "    Genere un resumen detallado del contenido del podcast, centrándose en los puntos clave mencionados anteriormente. \n",
    "    \n",
    "    Incluya suficiente información para captar la esencia de la discusión sin resumirla demasiado.\n",
    "    \n",
    "    \"\"\"\n",
    "    \n",
    "question = \"\"\"\n",
    "    Qué tipo de productos son los que recomienda el entrevistado para invertir? \n",
    "    Da detalle de un par de párrafos de cada uno y la información que tengas de ellos.\n",
    "    \"\"\"\n",
    "    \n",
    "response = chain.invoke({\n",
    "    \"context\": transcription,\n",
    "    # \"question\": \"can you summarize the podcast?\"\n",
    "    \"question\": question\n",
    "})\n",
    "\n",
    "response.pretty_print()"
   ]
  }
 ],
 "metadata": {
  "kernelspec": {
   "display_name": "local_rag",
   "language": "python",
   "name": "python3"
  },
  "language_info": {
   "codemirror_mode": {
    "name": "ipython",
    "version": 3
   },
   "file_extension": ".py",
   "mimetype": "text/x-python",
   "name": "python",
   "nbconvert_exporter": "python",
   "pygments_lexer": "ipython3",
   "version": "3.10.13"
  }
 },
 "nbformat": 4,
 "nbformat_minor": 2
}
