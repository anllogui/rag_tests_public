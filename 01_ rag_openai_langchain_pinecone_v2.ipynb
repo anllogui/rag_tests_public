{
 "cells": [
  {
   "cell_type": "code",
   "execution_count": null,
   "metadata": {},
   "outputs": [],
   "source": [
    "import os\n",
    "from dotenv import load_dotenv\n",
    "from pytube import YouTube\n",
    "import whisper\n",
    "from langchain_openai.chat_models import ChatOpenAI\n",
    "from langchain_openai.embeddings import OpenAIEmbeddings\n",
    "from langchain_pinecone import PineconeVectorStore\n",
    "from langchain.prompts import ChatPromptTemplate\n",
    "import re\n",
    "import tempfile\n",
    "from langchain_core.runnables import RunnableParallel, RunnablePassthrough\n"
   ]
  },
  {
   "cell_type": "code",
   "execution_count": null,
   "metadata": {},
   "outputs": [],
   "source": [
    "# Cargar variables de entorno\n",
    "load_dotenv()\n",
    "OPENAI_API_KEY = os.getenv(\"OPENAI_API_KEY\")\n",
    "PINECONE_API_KEY = os.getenv(\"PINECONE_API_KEY\")\n",
    "\n",
    "data_to_read = \"data/transcription.txt\"\n"
   ]
  },
  {
   "cell_type": "code",
   "execution_count": null,
   "metadata": {},
   "outputs": [],
   "source": [
    "# # Youtube transcription\n",
    "# YOUTUBE_VIDEO = \"https://www.youtube.com/watch?v=YM81g6XoZzI\"\n",
    "# if not os.path.exists(data_to_read):\n",
    "#     youtube = YouTube(YOUTUBE_VIDEO)\n",
    "#     audio = youtube.streams.filter(only_audio=True).first()\n",
    "#     whisper_model = whisper.load_model(\"large-v2\")\n",
    "\n",
    "#     with tempfile.TemporaryDirectory() as tmpdir:\n",
    "#         file = audio.download(output_path=tmpdir)\n",
    "#         transcription = whisper_model.transcribe(file, fp16=False)[\"text\"].strip()\n",
    "\n",
    "#         with open(data_to_read, \"w\") as file:\n",
    "#             file.write(transcription)"
   ]
  },
  {
   "cell_type": "code",
   "execution_count": null,
   "metadata": {},
   "outputs": [],
   "source": [
    "with open(data_to_read) as file:\n",
    "    transcription = file.read()\n"
   ]
  },
  {
   "cell_type": "code",
   "execution_count": null,
   "metadata": {},
   "outputs": [],
   "source": [
    "# Paso 2: Trocear el texto manualmente\n",
    "single_sentences_list = re.split(r\"(?<=[.?!])\\s+\", transcription)\n",
    "\n",
    "chunks = []\n",
    "chunk_size = 10000\n",
    "chunk = \"\"\n",
    "for sentence in single_sentences_list:\n",
    "    if len(chunk) + len(sentence) < chunk_size:\n",
    "        chunk += \" \" + sentence\n",
    "    else:\n",
    "        chunks.append(chunk.strip())\n",
    "        chunk = sentence\n",
    "if chunk:\n",
    "    chunks.append(chunk.strip())\n"
   ]
  },
  {
   "cell_type": "code",
   "execution_count": null,
   "metadata": {},
   "outputs": [],
   "source": [
    "# Paso 3: Generar embeddings para los chunks\n",
    "embeddings = OpenAIEmbeddings(openai_api_key=OPENAI_API_KEY)\n",
    "\n",
    "# Crear los documentos usando SemanticChunker (para el ejemplo)\n",
    "from langchain_experimental.text_splitter import SemanticChunker\n",
    "\n",
    "text_splitter = SemanticChunker(embeddings=embeddings)\n",
    "docs = text_splitter.create_documents(chunks)\n"
   ]
  },
  {
   "cell_type": "code",
   "execution_count": null,
   "metadata": {},
   "outputs": [],
   "source": [
    "docs[:10]"
   ]
  },
  {
   "cell_type": "code",
   "execution_count": null,
   "metadata": {},
   "outputs": [],
   "source": [
    "# Paso 4: Cargar los embeddings en Pinecone\n",
    "index_name = \"youtube-rag-index-semantic\"\n",
    "\n",
    "PineconeVectorStore.get_pinecone_index(index_name).delete(delete_all=True)\n",
    "\n",
    "pinecone = PineconeVectorStore.from_documents(\n",
    "    docs,\n",
    "    embedding=embeddings,\n",
    "    index_name=index_name,  # , pinecone_api_key=PINECONE_API_KEY, pinecone_environment=PINECONE_ENV\n",
    ")\n"
   ]
  },
  {
   "cell_type": "code",
   "execution_count": null,
   "metadata": {},
   "outputs": [],
   "source": [
    "pinecone.similarity_search(\"Como se llama el entrevistado?\")[:3]\n"
   ]
  },
  {
   "cell_type": "code",
   "execution_count": null,
   "metadata": {},
   "outputs": [],
   "source": [
    "# Paso 5: Configurar el modelo y el prompt de LangChain para hacer la consulta\n",
    "model = ChatOpenAI(openai_api_key=OPENAI_API_KEY, model=\"gpt-4-mini\")\n",
    "template = \"\"\"\n",
    "Answer the question based on the context below. If you can't \n",
    "answer the question, reply \"I don't know\".\n",
    "\n",
    "Context: {context}\n",
    "\n",
    "Question: {question}\n",
    "\"\"\"\n",
    "prompt = ChatPromptTemplate.from_template(template)\n",
    "\n",
    "# Crear el chain para la consulta\n",
    "chain = (\n",
    "    {\n",
    "        \"context\": pinecone.as_retriever(\n",
    "            search_type=\"similarity\", search_kwargs={\"k\": 10}\n",
    "        ),\n",
    "        \"question\": RunnablePassthrough(),\n",
    "    }\n",
    "    | prompt\n",
    "    | model\n",
    "    # | parser # Descomentar si quieres usar un parser\n",
    ")\n",
    "\n",
    "# Hacer la consulta\n",
    "# response = chain.invoke({\n",
    "#     \"context\": transcription,\n",
    "#     \"question\": \"De qué trabaja y quién es el entrevistado?\"\n",
    "# })\n",
    "chain.invoke(\"De qué trabaja el entrevistado?\")\n",
    "# chain.invoke(\"Cómo se llama el entrevistado?\")\n",
    "\n",
    "# print(response)\n"
   ]
  }
 ],
 "metadata": {
  "kernelspec": {
   "display_name": "rag_tests",
   "language": "python",
   "name": "python3"
  },
  "language_info": {
   "codemirror_mode": {
    "name": "ipython",
    "version": 3
   },
   "file_extension": ".py",
   "mimetype": "text/x-python",
   "name": "python",
   "nbconvert_exporter": "python",
   "pygments_lexer": "ipython3",
   "version": "3.10.13"
  }
 },
 "nbformat": 4,
 "nbformat_minor": 2
}
